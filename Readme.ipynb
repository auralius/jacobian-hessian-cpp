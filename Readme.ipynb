{
 "cells": [
  {
   "cell_type": "markdown",
   "metadata": {},
   "source": [
    "A function of vector, with 3 input parameters and 2 output parameters.   \n",
    "\n",
    "$y=\\begin{bmatrix} f_1(x_1,x_2,x_3) \\\\ f_2(x_1,x_2,x_3) \\end{bmatrix}$\n",
    "\n",
    "$Jac(y) = \\begin{bmatrix}\n",
    "\\frac{\\partial f_1}{\\partial x_1} \\frac{\\partial f_1}{\\partial x_2} \\frac{\\partial f_1}{\\partial x_3} \\\\ \n",
    "\\frac{\\partial f_2}{\\partial x_1} \\frac{\\partial f_2}{\\partial x_2} \\frac{\\partial f_2}{\\partial x_3} \n",
    "\\end{bmatrix}$ \n",
    "\n",
    "$Hess(y(1)) = \\begin{bmatrix}\n",
    "\\frac{\\partial^2 f_1}{\\partial x_1^2} \\frac{\\partial^2 f_1}{\\partial x_1 \\partial x_2} \\frac{\\partial^2 f_1}{\\partial x_1 \\partial x_3} \\\\\n",
    "\\frac{\\partial^2 f_1}{\\partial x_2 \\partial x_1} \\frac{\\partial^2 f_1}{\\partial x_2^2} \\frac{\\partial^2 f_1}{\\partial x_2 \\partial x_3}  \\\\\n",
    "\\frac{\\partial^2 f_1}{\\partial x_3 \\partial x_1} \\frac{\\partial^2 f_1}{\\partial x_3 \\partial x_2} \\frac{\\partial^2 f_1}{\\partial x_3^2}\n",
    "\\end{bmatrix}$\n",
    "\n",
    "$Hess(y(2)) = \\begin{bmatrix}\n",
    "\\frac{\\partial^2 f_2}{\\partial x_1^2} \\frac{\\partial^2 f_2}{\\partial x_1 \\partial x_2} \\frac{\\partial^2 f_2}{\\partial x_1 \\partial x_3} \\\\\n",
    "\\frac{\\partial^2 f_2}{\\partial x_2 \\partial x_1} \\frac{\\partial^2 f_2}{\\partial x_2^2}              \\frac{\\partial^2 f_2}{\\partial x_2 \\partial x_3} \\\\\n",
    "\\frac{\\partial^2 f_2}{\\partial x_3 \\partial x_1} \\frac{\\partial^2 f_2}{\\partial x_3 \\partial x_2}   \\frac{\\partial^2 f_2}{\\partial x_3^2}\n",
    "\\end{bmatrix}$"
   ]
  },
  {
   "cell_type": "code",
   "execution_count": null,
   "metadata": {
    "collapsed": true
   },
   "outputs": [],
   "source": []
  }
 ],
 "metadata": {
  "kernelspec": {
   "display_name": "Python 2",
   "language": "python",
   "name": "python2"
  },
  "language_info": {
   "codemirror_mode": {
    "name": "ipython",
    "version": 2
   },
   "file_extension": ".py",
   "mimetype": "text/x-python",
   "name": "python",
   "nbconvert_exporter": "python",
   "pygments_lexer": "ipython2",
   "version": "2.7.13"
  }
 },
 "nbformat": 4,
 "nbformat_minor": 2
}
